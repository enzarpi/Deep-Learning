{
  "cells": [
    {
      "cell_type": "markdown",
      "metadata": {
        "id": "-lgxr_WQS98c"
      },
      "source": [
        "**1. Cargar Librerías y Configuración Inicial**\n",
        "\n",
        "Este bloque importa las librerías necesarias y configura las rutas a los datos."
      ]
    },
    {
      "cell_type": "code",
      "execution_count": 23,
      "metadata": {
        "colab": {
          "base_uri": "https://localhost:8080/"
        },
        "id": "G1UzVmmpekqP",
        "outputId": "427a2bc2-818d-424a-b3ac-24de2d1a3ce9"
      },
      "outputs": [
        {
          "output_type": "stream",
          "name": "stdout",
          "text": [
            "Requirement already satisfied: torchsummary in /usr/local/lib/python3.11/dist-packages (1.5.1)\n",
            "Requirement already satisfied: torchinfo in /usr/local/lib/python3.11/dist-packages (1.8.0)\n",
            "Requirement already satisfied: optuna in /usr/local/lib/python3.11/dist-packages (4.2.0)\n",
            "Requirement already satisfied: alembic>=1.5.0 in /usr/local/lib/python3.11/dist-packages (from optuna) (1.14.1)\n",
            "Requirement already satisfied: colorlog in /usr/local/lib/python3.11/dist-packages (from optuna) (6.9.0)\n",
            "Requirement already satisfied: numpy in /usr/local/lib/python3.11/dist-packages (from optuna) (1.26.4)\n",
            "Requirement already satisfied: packaging>=20.0 in /usr/local/lib/python3.11/dist-packages (from optuna) (24.2)\n",
            "Requirement already satisfied: sqlalchemy>=1.4.2 in /usr/local/lib/python3.11/dist-packages (from optuna) (2.0.37)\n",
            "Requirement already satisfied: tqdm in /usr/local/lib/python3.11/dist-packages (from optuna) (4.67.1)\n",
            "Requirement already satisfied: PyYAML in /usr/local/lib/python3.11/dist-packages (from optuna) (6.0.2)\n",
            "Requirement already satisfied: Mako in /usr/local/lib/python3.11/dist-packages (from alembic>=1.5.0->optuna) (1.3.8)\n",
            "Requirement already satisfied: typing-extensions>=4 in /usr/local/lib/python3.11/dist-packages (from alembic>=1.5.0->optuna) (4.12.2)\n",
            "Requirement already satisfied: greenlet!=0.4.17 in /usr/local/lib/python3.11/dist-packages (from sqlalchemy>=1.4.2->optuna) (3.1.1)\n",
            "Requirement already satisfied: MarkupSafe>=0.9.2 in /usr/local/lib/python3.11/dist-packages (from Mako->alembic>=1.5.0->optuna) (3.0.2)\n",
            "Requirement already satisfied: plotly in /usr/local/lib/python3.11/dist-packages (5.24.1)\n",
            "Requirement already satisfied: tenacity>=6.2.0 in /usr/local/lib/python3.11/dist-packages (from plotly) (9.0.0)\n",
            "Requirement already satisfied: packaging in /usr/local/lib/python3.11/dist-packages (from plotly) (24.2)\n"
          ]
        }
      ],
      "source": [
        "!pip install torchsummary\n",
        "!pip install torchinfo\n",
        "!pip install optuna\n",
        "!pip install plotly"
      ]
    },
    {
      "cell_type": "code",
      "execution_count": 24,
      "metadata": {
        "colab": {
          "base_uri": "https://localhost:8080/"
        },
        "id": "v3aI80B0S9pC",
        "outputId": "356ae7d0-a89d-4324-8b20-32dc5f30b9ce"
      },
      "outputs": [
        {
          "output_type": "stream",
          "name": "stdout",
          "text": [
            "Eliminando carpeta existente: /content/sample_data/data_main\n",
            "Extrayendo data_main.zip...\n",
            "Imágenes extraídas en: /content/sample_data/data_main\n"
          ]
        }
      ],
      "source": [
        "import pandas as pd\n",
        "import ast\n",
        "import os\n",
        "import zipfile\n",
        "import shutil\n",
        "from PIL import Image\n",
        "import numpy as np\n",
        "import matplotlib.pyplot as plt\n",
        "from sklearn.model_selection import train_test_split\n",
        "from sklearn.metrics import confusion_matrix, ConfusionMatrixDisplay\n",
        "import torch\n",
        "import torch.nn as nn\n",
        "import torchvision.models as models\n",
        "from torchsummary import summary\n",
        "from torch.utils.data import Dataset, DataLoader\n",
        "import torchvision.transforms as transforms\n",
        "from torchinfo import summary\n",
        "import torch.optim as optim\n",
        "import torch.nn as nn\n",
        "from torchvision.transforms import Compose, Resize, ToTensor, Normalize, RandomHorizontalFlip, RandomRotation, ColorJitter\n",
        "import optuna\n",
        "import optuna.visualization as vis\n",
        "import plotly\n",
        "import random\n",
        "\n",
        "# Ruta de los datos\n",
        "csv_path = '/content/sample_data/poi_dataset.csv'\n",
        "zip_path = '/content/sample_data/data_main.zip'  # Ruta al ZIP de imágenes\n",
        "image_root_dir = '/content/sample_data/data_main'  # Directorio donde estarán las imágenes\n",
        "\n",
        "# Limpiar directorio si existe\n",
        "if os.path.exists(image_root_dir):\n",
        "    print(f\"Eliminando carpeta existente: {image_root_dir}\")\n",
        "    shutil.rmtree(image_root_dir)\n",
        "\n",
        "# Extraer contenido del ZIP sin anidación redundante\n",
        "print(\"Extrayendo data_main.zip...\")\n",
        "with zipfile.ZipFile(zip_path, 'r') as zip_ref:\n",
        "    for member in zip_ref.namelist():\n",
        "        # Ignorar la carpeta principal (si existe)\n",
        "        path_components = member.split('/')\n",
        "        if len(path_components) > 1 and path_components[0] == 'data_main':\n",
        "            target_path = os.path.join(image_root_dir, '/'.join(path_components[1:]))\n",
        "\n",
        "            # Si es una carpeta, crea la carpeta\n",
        "            if member.endswith('/'):\n",
        "                os.makedirs(target_path, exist_ok=True)\n",
        "            else:\n",
        "                # Si es un archivo, escribe el archivo\n",
        "                os.makedirs(os.path.dirname(target_path), exist_ok=True)\n",
        "                with open(target_path, 'wb') as f:\n",
        "                    f.write(zip_ref.read(member))\n",
        "\n",
        "print(f\"Imágenes extraídas en: {image_root_dir}\")"
      ]
    },
    {
      "cell_type": "markdown",
      "metadata": {
        "id": "Goc8t4ZpPWwC"
      },
      "source": [
        "**Configuración del dispositivo**"
      ]
    },
    {
      "cell_type": "code",
      "execution_count": 25,
      "metadata": {
        "colab": {
          "base_uri": "https://localhost:8080/"
        },
        "id": "15WVjmI9PrTj",
        "outputId": "6f9f55ee-1fd2-41fb-c38e-5b21adbc710a"
      },
      "outputs": [
        {
          "output_type": "stream",
          "name": "stdout",
          "text": [
            "Semilla configurada en 42 para reproducibilidad.\n"
          ]
        }
      ],
      "source": [
        "# Configuración de la semilla para reproducibilidad\n",
        "seed = 42\n",
        "np.random.seed(seed)  # Configura la semilla para NumPy\n",
        "torch.manual_seed(seed)  # Configura la semilla para PyTorch\n",
        "\n",
        "print(f\"Semilla configurada en {seed} para reproducibilidad.\")"
      ]
    },
    {
      "cell_type": "code",
      "execution_count": 26,
      "metadata": {
        "colab": {
          "base_uri": "https://localhost:8080/"
        },
        "id": "47Zh4T1DPdrf",
        "outputId": "58a6a4e8-28b3-4a99-86ca-17a76c17e874"
      },
      "outputs": [
        {
          "output_type": "stream",
          "name": "stdout",
          "text": [
            "Using device: cpu\n"
          ]
        }
      ],
      "source": [
        "# Configuración del dispositivo\n",
        "device = torch.device(\"cuda\" if torch.cuda.is_available() else \"cpu\")\n",
        "print(f\"Using device: {device}\")"
      ]
    },
    {
      "cell_type": "markdown",
      "metadata": {
        "id": "nofY83R0TK7I"
      },
      "source": [
        "**2. Cargar y Limpiar Datos**\n",
        "\n",
        "Carga el dataset desde un archivo CSV y elimina duplicados para garantizar datos únicos."
      ]
    },
    {
      "cell_type": "code",
      "execution_count": 27,
      "metadata": {
        "colab": {
          "base_uri": "https://localhost:8080/"
        },
        "id": "Wa3ffJsyTUyr",
        "outputId": "5eb737ba-bd82-4b44-fa21-fac6f8cb66a9"
      },
      "outputs": [
        {
          "output_type": "stream",
          "name": "stdout",
          "text": [
            "Datos cargados. Primeras filas:\n",
            "                                     id  \\\n",
            "0  4b36a3ed-3b28-4bc7-b975-1d48b586db03   \n",
            "1  e32b3603-a94f-49df-8b31-92445a86377c   \n",
            "2  0123a69b-13ac-4b65-a5d5-71a95560cff5   \n",
            "3  390d7d9e-e972-451c-b5e4-f494af15e788   \n",
            "4  023fc1bf-a1cd-4b9f-af78-48792ab1a294   \n",
            "\n",
            "                                                name  \\\n",
            "0                                  Galería Fran Reus   \n",
            "1                            Convento de San Plácido   \n",
            "2             Instituto Geológico y Minero de España   \n",
            "3                              Margarita Gil Roësset   \n",
            "4  Museo del Traje. Centro de Investigación del P...   \n",
            "\n",
            "                                    shortDescription  \\\n",
            "0  La Galería Fran Reus es un espacio dedicado a ...   \n",
            "1  El Convento de San Plácido en Madrid, fundado ...   \n",
            "2  El Instituto Geológico y Minero de España, sit...   \n",
            "3  Margarita Gil Roësset, escultora y poetisa esp...   \n",
            "4  El Museo del Traje de Madrid, fundado en 2004,...   \n",
            "\n",
            "                   categories  tier  locationLon  locationLat tags  xps  \\\n",
            "0    ['Escultura', 'Pintura']     1     2.642262    39.572694   []  500   \n",
            "1  ['Patrimonio', 'Historia']     1    -3.704467    40.423037   []  500   \n",
            "2   ['Ciencia', 'Patrimonio']     2    -3.699694    40.442045   []  250   \n",
            "3                 ['Cultura']     1    -3.691228    40.427256   []  500   \n",
            "4   ['Patrimonio', 'Cultura']     1    -3.727822    40.439665   []  500   \n",
            "\n",
            "   Visits  Likes  Dislikes  Bookmarks  \\\n",
            "0   10009    422      3582         78   \n",
            "1   10010   7743        96       2786   \n",
            "2   10015   3154       874        595   \n",
            "3   10011   8559        79       2358   \n",
            "4   10020    915      2896        143   \n",
            "\n",
            "                                     main_image_path  \n",
            "0  data_main/4b36a3ed-3b28-4bc7-b975-1d48b586db03...  \n",
            "1  data_main/e32b3603-a94f-49df-8b31-92445a86377c...  \n",
            "2  data_main/0123a69b-13ac-4b65-a5d5-71a95560cff5...  \n",
            "3  data_main/390d7d9e-e972-451c-b5e4-f494af15e788...  \n",
            "4  data_main/023fc1bf-a1cd-4b9f-af78-48792ab1a294...  \n"
          ]
        }
      ],
      "source": [
        "# Cargar el archivo CSV\n",
        "poi_data = pd.read_csv(csv_path)\n",
        "\n",
        "# Eliminar duplicados basándose en el ID único\n",
        "poi_data_cleaned = poi_data.drop_duplicates(subset=['id'])\n",
        "\n",
        "# Mostrar las primeras filas para inspección\n",
        "print(\"Datos cargados. Primeras filas:\")\n",
        "print(poi_data_cleaned.head())\n"
      ]
    },
    {
      "cell_type": "markdown",
      "metadata": {
        "id": "0ZDqpgjgT18C"
      },
      "source": [
        "**3. Crear Métricas de Engagement**\n",
        "\n",
        "Crea una métrica combinada de engagement, la normaliza, y genera una variable binaria (alto/bajo engagement)."
      ]
    },
    {
      "cell_type": "code",
      "execution_count": 28,
      "metadata": {
        "colab": {
          "base_uri": "https://localhost:8080/"
        },
        "id": "kkOHUoKpT2Y0",
        "outputId": "a44be6c1-dd88-4f28-cf11-2b2719d0dd05"
      },
      "outputs": [
        {
          "output_type": "stream",
          "name": "stdout",
          "text": [
            "Métrica de engagement creada y normalizada.\n",
            "       engagement_score  engagement_normalized  engagement_binary\n",
            "count       1492.000000            1492.000000        1492.000000\n",
            "mean       16094.553284               0.226687           0.500000\n",
            "std        13097.299050               0.183571           0.500168\n",
            "min          -79.000000               0.000000           0.000000\n",
            "25%         7404.250000               0.104885           0.000000\n",
            "50%         9131.000000               0.129087           0.500000\n",
            "75%        22398.500000               0.315043           1.000000\n",
            "max        71268.500000               1.000000           1.000000\n"
          ]
        }
      ],
      "source": [
        "poi_data_cleaned = poi_data_cleaned.copy()\n",
        "\n",
        "# Crear una métrica de engagement combinada\n",
        "poi_data_cleaned.loc[:, 'engagement_score'] = (\n",
        "    poi_data_cleaned['Visits'] +\n",
        "    poi_data_cleaned['Likes'] * 2 +\n",
        "    poi_data_cleaned['Bookmarks'] * 1.5 -\n",
        "    poi_data_cleaned['Dislikes']\n",
        ")\n",
        "\n",
        "# Normalizar la métrica de engagement\n",
        "engagement_min = poi_data_cleaned['engagement_score'].min()\n",
        "engagement_max = poi_data_cleaned['engagement_score'].max()\n",
        "\n",
        "poi_data_cleaned.loc[:, 'engagement_normalized'] = (\n",
        "    (poi_data_cleaned['engagement_score'] - engagement_min) /\n",
        "    (engagement_max - engagement_min)\n",
        ")\n",
        "\n",
        "# Crear una variable binaria para engagement\n",
        "engagement_median = poi_data_cleaned['engagement_normalized'].median()\n",
        "\n",
        "poi_data_cleaned.loc[:, 'engagement_binary'] = (\n",
        "    poi_data_cleaned['engagement_normalized'] > engagement_median\n",
        ").astype(int)\n",
        "\n",
        "# Mostrar estadísticas de la métrica\n",
        "print(\"Métrica de engagement creada y normalizada.\")\n",
        "print(poi_data_cleaned[['engagement_score', 'engagement_normalized', 'engagement_binary']].describe())"
      ]
    },
    {
      "cell_type": "markdown",
      "metadata": {
        "id": "KP2Ip9KCUZDf"
      },
      "source": [
        "**Codificar Categorías**\n",
        "\n",
        "Convierte las categorías en listas y las codifica utilizando One-Hot Encoding."
      ]
    },
    {
      "cell_type": "code",
      "execution_count": 29,
      "metadata": {
        "colab": {
          "base_uri": "https://localhost:8080/"
        },
        "id": "Q2oEG2sZUY3k",
        "outputId": "450ebfdb-c6ca-4720-944f-90c6627bfe44"
      },
      "outputs": [
        {
          "output_type": "stream",
          "name": "stdout",
          "text": [
            "Categorías codificadas. Ejemplo de columnas codificadas:\n",
            "   Arquitectura  Ciencia  Cine  Cultura  Escultura  Gastronomía  Historia  \\\n",
            "0             0        0     0        0          1            0         0   \n",
            "1             0        0     0        0          0            0         1   \n",
            "2             0        1     0        0          0            0         0   \n",
            "3             0        0     0        1          0            0         0   \n",
            "4             0        0     0        1          0            0         0   \n",
            "\n",
            "   Misterio  Naturaleza  Ocio  Patrimonio  Pintura  \n",
            "0         0           0     0           0        1  \n",
            "1         0           0     0           1        0  \n",
            "2         0           0     0           1        0  \n",
            "3         0           0     0           0        0  \n",
            "4         0           0     0           1        0  \n"
          ]
        }
      ],
      "source": [
        "# Convertir las categorías en listas reales usando\n",
        "poi_data_cleaned.loc[:, 'categories_list'] = poi_data_cleaned['categories'].apply(lambda x: ast.literal_eval(x))\n",
        "\n",
        "# Realizar One-Hot Encoding para las categorías\n",
        "categories_encoded = pd.get_dummies(\n",
        "    poi_data_cleaned['categories_list'].apply(pd.Series).stack()\n",
        ").groupby(level=0).sum()\n",
        "\n",
        "# Combinar el resultado con el DataFrame original\n",
        "poi_data_with_categories = pd.concat([poi_data_cleaned, categories_encoded], axis=1)\n",
        "\n",
        "# Mostrar las primeras columnas de categorías codificadas\n",
        "print(\"Categorías codificadas. Ejemplo de columnas codificadas:\")\n",
        "print(categories_encoded.head())"
      ]
    },
    {
      "cell_type": "markdown",
      "metadata": {
        "id": "J1hfGs1QUlAF"
      },
      "source": [
        "**Ajustar Rutas de Imágenes**\n",
        "\n",
        "Genera rutas completas a las imágenes main.jpg en el directorio descomprimido."
      ]
    },
    {
      "cell_type": "code",
      "execution_count": 30,
      "metadata": {
        "colab": {
          "base_uri": "https://localhost:8080/"
        },
        "id": "SLXyWhgWUk15",
        "outputId": "8a5e2070-a2c4-4748-cdd5-743f48625506"
      },
      "outputs": [
        {
          "output_type": "stream",
          "name": "stdout",
          "text": [
            "Rutas de imágenes ajustadas. Ejemplo:\n",
            "                                     id  \\\n",
            "0  4b36a3ed-3b28-4bc7-b975-1d48b586db03   \n",
            "1  e32b3603-a94f-49df-8b31-92445a86377c   \n",
            "2  0123a69b-13ac-4b65-a5d5-71a95560cff5   \n",
            "3  390d7d9e-e972-451c-b5e4-f494af15e788   \n",
            "4  023fc1bf-a1cd-4b9f-af78-48792ab1a294   \n",
            "\n",
            "                                 adjusted_image_path  \n",
            "0  /content/sample_data/data_main/4b36a3ed-3b28-4...  \n",
            "1  /content/sample_data/data_main/e32b3603-a94f-4...  \n",
            "2  /content/sample_data/data_main/0123a69b-13ac-4...  \n",
            "3  /content/sample_data/data_main/390d7d9e-e972-4...  \n",
            "4  /content/sample_data/data_main/023fc1bf-a1cd-4...  \n"
          ]
        }
      ],
      "source": [
        "# Ajustar las rutas de las imágenes\n",
        "poi_data_with_categories['adjusted_image_path'] = poi_data_with_categories['id'].apply(\n",
        "    lambda poi_id: os.path.join(image_root_dir, poi_id, 'main.jpg')\n",
        ")\n",
        "# Mostrar ejemplos de rutas ajustadas\n",
        "print(\"Rutas de imágenes ajustadas. Ejemplo:\")\n",
        "print(poi_data_with_categories[['id', 'adjusted_image_path']].head())"
      ]
    },
    {
      "cell_type": "markdown",
      "metadata": {
        "id": "3uRoZh64UxVS"
      },
      "source": [
        "**Preprocesar Imágenes**\n",
        "\n",
        "Redimensiona y normaliza las imágenes para que sean compatibles con el modelo de Deep Learning."
      ]
    },
    {
      "cell_type": "code",
      "execution_count": 31,
      "metadata": {
        "colab": {
          "base_uri": "https://localhost:8080/",
          "height": 428
        },
        "id": "i4-3cHy9UwC_",
        "outputId": "0c089f38-75a7-4b3c-801a-6ce6b3125710"
      },
      "outputs": [
        {
          "output_type": "display_data",
          "data": {
            "text/plain": [
              "<Figure size 640x480 with 1 Axes>"
            ],
            "image/png": "[encoded data removed]"
          },
          "metadata": {}
        }
      ],
      "source": [
        "# Tamaño deseado para las imágenes\n",
        "IMAGE_SIZE = (224, 224)\n",
        "\n",
        "# Función para redimensionar y normalizar una imagen\n",
        "def preprocess_image(image_path, target_size=IMAGE_SIZE):\n",
        "    try:\n",
        "        with Image.open(image_path) as img:\n",
        "            img = img.resize(target_size)  # Redimensionar\n",
        "            img_array = np.array(img) / 255.0  # Normalizar\n",
        "            return img_array\n",
        "    except Exception as e:\n",
        "        print(f\"Error procesando la imagen {image_path}: {e}\")\n",
        "        return None\n",
        "\n",
        "# Procesar todas las imágenes disponibles\n",
        "poi_data_with_categories['processed_image'] = poi_data_with_categories['adjusted_image_path'].apply(\n",
        "    lambda path: preprocess_image(path) if os.path.exists(path) else None\n",
        ")\n",
        "\n",
        "# Extraer una imagen procesada para mostrar\n",
        "random_index = random.randint(0, len(poi_data_with_categories) - 1)\n",
        "example_image = poi_data_with_categories['processed_image'].iloc[random_index]\n",
        "\n",
        "# Mostrar la imagen redimensionada\n",
        "if example_image is not None:\n",
        "    plt.imshow(example_image)  # Mostrar la imagen\n",
        "    plt.axis('off')  # Ocultar los ejes\n",
        "    plt.title(\"Ejemplo de Imagen Redimensionada\")\n",
        "    plt.show()\n",
        "else:\n",
        "    print(\"No se encontró ninguna imagen procesada para mostrar.\")\n"
      ]
    },
    {
      "cell_type": "markdown",
      "metadata": {
        "id": "uYdcpFbKU8Ml"
      },
      "source": [
        "**Resumen del Preprocesamiento**\n",
        "\n",
        "Genera un resumen del número de imágenes procesadas correctamente y las que fallaron."
      ]
    },
    {
      "cell_type": "code",
      "execution_count": 32,
      "metadata": {
        "colab": {
          "base_uri": "https://localhost:8080/"
        },
        "id": "8K_a2eoDU8B7",
        "outputId": "0103f927-56f6-4d22-b39d-1c52035bbe8b"
      },
      "outputs": [
        {
          "output_type": "stream",
          "name": "stdout",
          "text": [
            "Resumen del preprocesamiento:\n",
            "{'Total imágenes': 1492, 'Imágenes procesadas': 1492, 'Errores en procesamiento': 0}\n"
          ]
        }
      ],
      "source": [
        "# Verificar cuántas imágenes se procesaron correctamente\n",
        "total_images = len(poi_data_with_categories)\n",
        "processed_count = poi_data_with_categories['processed_image'].notnull().sum()\n",
        "failed_count = total_images - processed_count\n",
        "\n",
        "# Mostrar resumen del preprocesamiento\n",
        "preprocessing_summary = {\n",
        "    \"Total imágenes\": total_images,\n",
        "    \"Imágenes procesadas\": processed_count,\n",
        "    \"Errores en procesamiento\": failed_count,\n",
        "}\n",
        "\n",
        "print(\"Resumen del preprocesamiento:\")\n",
        "print(preprocessing_summary)"
      ]
    },
    {
      "cell_type": "markdown",
      "metadata": {
        "id": "kYgAXD0wjN7d"
      },
      "source": [
        "**Transformaciones para las Imágenes**\n",
        "\n",
        "Define las transformaciones para imágenes, asegurando compatibilidad con el modelo preentrenado (ResNet-18)."
      ]
    },
    {
      "cell_type": "code",
      "execution_count": 33,
      "metadata": {
        "colab": {
          "base_uri": "https://localhost:8080/"
        },
        "id": "9RGRZeWmjQBz",
        "outputId": "d2936a1b-0a9c-47f7-86ba-620db6175b0a"
      },
      "outputs": [
        {
          "output_type": "stream",
          "name": "stdout",
          "text": [
            "Transformaciones con Data Augmentation definidas correctamente para entrenamiento.\n"
          ]
        }
      ],
      "source": [
        "# Transformaciones para imágenes\n",
        "#transform = transforms.Compose([\n",
        "   # transforms.Resize((224, 224)),  # Redimensionar\n",
        "  #  transforms.ToTensor(),         # Convertir a tensores\n",
        " #   transforms.Normalize(mean=[0.485, 0.456, 0.406], std=[0.229, 0.224, 0.225])  # Normalizar como en modelos preentrenados\n",
        "#])\n",
        "\n",
        "#print(\"Transformaciones definidas correctamente.\")\n",
        "\n",
        "# Transformaciones con Data Augmentation para entrenamiento\n",
        "transform = Compose([\n",
        "    RandomHorizontalFlip(p=0.5),  # Volteo horizontal con probabilidad del 50%\n",
        "    RandomRotation(degrees=15),  # Rotación aleatoria de ±15 grados\n",
        "    ColorJitter(brightness=0.2, contrast=0.2, saturation=0.2),  # Cambios de brillo, contraste y saturación\n",
        "    Resize((224, 224)),  # Redimensionar\n",
        "    ToTensor(),  # Convertir a tensores\n",
        "    Normalize(mean=[0.485, 0.456, 0.406], std=[0.229, 0.224, 0.225])  # Normalizar como en modelos preentrenados\n",
        "])\n",
        "\n",
        "# Transformaciones para validación y prueba\n",
        "val_transform = Compose([\n",
        "    Resize((224, 224)),\n",
        "    ToTensor(),\n",
        "    Normalize(mean=[0.485, 0.456, 0.406], std=[0.229, 0.224, 0.225])\n",
        "])\n",
        "\n",
        "print(\"Transformaciones con Data Augmentation definidas correctamente para entrenamiento.\")\n"
      ]
    },
    {
      "cell_type": "markdown",
      "metadata": {
        "id": "_xnmKgSrjYTL"
      },
      "source": [
        "**División en Train/Validation/Test**\n",
        "\n",
        "Divide los datos en 3 conjuntos:\n",
        "\n",
        "Entrenamiento (train): 64%, Validación (validation): 16% y Prueba (test): 20%"
      ]
    },
    {
      "cell_type": "code",
      "execution_count": 34,
      "metadata": {
        "colab": {
          "base_uri": "https://localhost:8080/"
        },
        "id": "UqebSLGLjUc9",
        "outputId": "b477f897-a4ea-4ff6-ea5b-1f89612389ee"
      },
      "outputs": [
        {
          "output_type": "stream",
          "name": "stdout",
          "text": [
            "División completada: Train=954, Validation=239, Test=299\n"
          ]
        }
      ],
      "source": [
        "# Dividir los datos en conjuntos (80% train y val, 20% test)\n",
        "train_df, test_df = train_test_split(poi_data_with_categories, test_size=0.2, random_state=42)\n",
        "\n",
        "# Dividir el conjunto de entrenamiento en train y validation (80% train, 20% validation)\n",
        "train_df, val_df = train_test_split(train_df, test_size=0.2, random_state=42)\n",
        "\n",
        "print(f\"División completada: Train={len(train_df)}, Validation={len(val_df)}, Test={len(test_df)}\")\n",
        "\n"
      ]
    },
    {
      "cell_type": "markdown",
      "metadata": {
        "id": "XcUUVf3iaTYS"
      },
      "source": [
        "**Definir las columnas de metadatos y verificar datos**"
      ]
    },
    {
      "cell_type": "code",
      "execution_count": 35,
      "metadata": {
        "colab": {
          "base_uri": "https://localhost:8080/"
        },
        "id": "zqLgdh1XWdK-",
        "outputId": "aa536c10-6b98-485a-c60f-98d1e81e8ad2"
      },
      "outputs": [
        {
          "output_type": "stream",
          "name": "stdout",
          "text": [
            "Columnas de metadatos utilizadas: ['Visits', 'Likes', 'Dislikes', 'Bookmarks']\n",
            "      Visits  Likes  Dislikes  Bookmarks\n",
            "893    10005   3482      1153        562\n",
            "1079   10014   2952      1524        610\n",
            "1213   10017  23817       221       7014\n",
            "349    10012   8413        99       2684\n",
            "858    10013    670      7908        281\n"
          ]
        }
      ],
      "source": [
        "# Definir columnas de metadatos\n",
        "metadata_columns = ['Visits', 'Likes', 'Dislikes', 'Bookmarks']  # Ajustar si hay más columnas\n",
        "\n",
        "# Verifica la cantidad de columnas reales\n",
        "print(f\"Columnas de metadatos utilizadas: {metadata_columns}\")\n",
        "print(train_df[metadata_columns].head())\n"
      ]
    },
    {
      "cell_type": "markdown",
      "metadata": {
        "id": "AT-ryNjhaE_-"
      },
      "source": [
        "**Definir la Arquitectura del Modelo Híbrido**\n",
        "\n",
        "Definimos el modelo híbrido, extraemos características visuales usando ResNet-18, Procesa los datos estructurados y combinamos ambas salidas para realizar la clasificación."
      ]
    },
    {
      "cell_type": "code",
      "execution_count": 36,
      "metadata": {
        "id": "gXPSxToUaE0o"
      },
      "outputs": [],
      "source": [
        "class HybridModel(nn.Module):\n",
        "    def __init__(self, num_metadata_features, num_classes=2, dropout_prob=0.3):\n",
        "        super(HybridModel, self).__init__()\n",
        "\n",
        "        # 1. Rama de imágenes (ResNet preentrenado)\n",
        "        self.cnn = models.resnet18(weights=models.ResNet18_Weights.DEFAULT)\n",
        "        num_features_cnn = self.cnn.fc.in_features\n",
        "        self.cnn.fc = nn.Identity()  # Eliminar la capa FC final\n",
        "\n",
        "        # 2. Rama de metadatos (fully-connected)\n",
        "        self.metadata_fc = nn.Sequential(\n",
        "            nn.Linear(num_metadata_features, 128),\n",
        "            nn.ReLU(),\n",
        "            nn.Dropout(dropout_prob),  # Usar el dropout_prob\n",
        "            nn.Linear(128, 64),\n",
        "            nn.ReLU()\n",
        "        )\n",
        "\n",
        "        # 3. Capa fusionada y clasificación\n",
        "        self.classifier = nn.Sequential(\n",
        "            nn.Linear(num_features_cnn + 64, 128),\n",
        "            nn.ReLU(),\n",
        "            nn.Dropout(dropout_prob),  # Usar el dropout_prob\n",
        "            nn.Linear(128, num_classes)\n",
        "        )\n",
        "\n",
        "    def forward(self, image, metadata):\n",
        "        # Rama de imágenes\n",
        "        image_features = self.cnn(image)  # Salida: [batch_size, num_features]\n",
        "\n",
        "        # Rama de metadatos\n",
        "        metadata_features = self.metadata_fc(metadata)  # Salida: [batch_size, 64]\n",
        "\n",
        "        # Concatenar ambas ramas\n",
        "        combined = torch.cat((image_features, metadata_features), dim=1)\n",
        "\n",
        "        # Clasificación\n",
        "        output = self.classifier(combined)\n",
        "        return output\n"
      ]
    },
    {
      "cell_type": "markdown",
      "metadata": {
        "id": "97noLP6lamgC"
      },
      "source": [
        "**Instanciar y Visualizar el Modelo Híbrido**\n",
        "\n",
        "Este bloque calcula dinámicamente el número de características de los metadatos y ajusta el modelo híbrido para que coincida. Además, se imprime un resumen del modelo para verificar que las dimensiones son correctas."
      ]
    },
    {
      "cell_type": "code",
      "execution_count": 37,
      "metadata": {
        "colab": {
          "base_uri": "https://localhost:8080/"
        },
        "id": "LLxEjG4iasBJ",
        "outputId": "9ea1959e-fbc9-4c03-faa0-8d57c419b922"
      },
      "outputs": [
        {
          "output_type": "execute_result",
          "data": {
            "text/plain": [
              "========================================================================================================================\n",
              "Layer (type:depth-idx)                        Input Shape               Output Shape              Param #\n",
              "========================================================================================================================\n",
              "HybridModel                                   [1, 3, 224, 224]          [1, 2]                    --\n",
              "├─ResNet: 1-1                                 [1, 3, 224, 224]          [1, 512]                  --\n",
              "│    └─Conv2d: 2-1                            [1, 3, 224, 224]          [1, 64, 112, 112]         9,408\n",
              "│    └─BatchNorm2d: 2-2                       [1, 64, 112, 112]         [1, 64, 112, 112]         128\n",
              "│    └─ReLU: 2-3                              [1, 64, 112, 112]         [1, 64, 112, 112]         --\n",
              "│    └─MaxPool2d: 2-4                         [1, 64, 112, 112]         [1, 64, 56, 56]           --\n",
              "│    └─Sequential: 2-5                        [1, 64, 56, 56]           [1, 64, 56, 56]           --\n",
              "│    │    └─BasicBlock: 3-1                   [1, 64, 56, 56]           [1, 64, 56, 56]           73,984\n",
              "│    │    └─BasicBlock: 3-2                   [1, 64, 56, 56]           [1, 64, 56, 56]           73,984\n",
              "│    └─Sequential: 2-6                        [1, 64, 56, 56]           [1, 128, 28, 28]          --\n",
              "│    │    └─BasicBlock: 3-3                   [1, 64, 56, 56]           [1, 128, 28, 28]          230,144\n",
              "│    │    └─BasicBlock: 3-4                   [1, 128, 28, 28]          [1, 128, 28, 28]          295,424\n",
              "│    └─Sequential: 2-7                        [1, 128, 28, 28]          [1, 256, 14, 14]          --\n",
              "│    │    └─BasicBlock: 3-5                   [1, 128, 28, 28]          [1, 256, 14, 14]          919,040\n",
              "│    │    └─BasicBlock: 3-6                   [1, 256, 14, 14]          [1, 256, 14, 14]          1,180,672\n",
              "│    └─Sequential: 2-8                        [1, 256, 14, 14]          [1, 512, 7, 7]            --\n",
              "│    │    └─BasicBlock: 3-7                   [1, 256, 14, 14]          [1, 512, 7, 7]            3,673,088\n",
              "│    │    └─BasicBlock: 3-8                   [1, 512, 7, 7]            [1, 512, 7, 7]            4,720,640\n",
              "│    └─AdaptiveAvgPool2d: 2-9                 [1, 512, 7, 7]            [1, 512, 1, 1]            --\n",
              "│    └─Identity: 2-10                         [1, 512]                  [1, 512]                  --\n",
              "├─Sequential: 1-2                             [1, 4]                    [1, 64]                   --\n",
              "│    └─Linear: 2-11                           [1, 4]                    [1, 128]                  640\n",
              "│    └─ReLU: 2-12                             [1, 128]                  [1, 128]                  --\n",
              "│    └─Dropout: 2-13                          [1, 128]                  [1, 128]                  --\n",
              "│    └─Linear: 2-14                           [1, 128]                  [1, 64]                   8,256\n",
              "│    └─ReLU: 2-15                             [1, 64]                   [1, 64]                   --\n",
              "├─Sequential: 1-3                             [1, 576]                  [1, 2]                    --\n",
              "│    └─Linear: 2-16                           [1, 576]                  [1, 128]                  73,856\n",
              "│    └─ReLU: 2-17                             [1, 128]                  [1, 128]                  --\n",
              "│    └─Dropout: 2-18                          [1, 128]                  [1, 128]                  --\n",
              "│    └─Linear: 2-19                           [1, 128]                  [1, 2]                    258\n",
              "========================================================================================================================\n",
              "Total params: 11,259,522\n",
              "Trainable params: 11,259,522\n",
              "Non-trainable params: 0\n",
              "Total mult-adds (Units.GIGABYTES): 1.81\n",
              "========================================================================================================================\n",
              "Input size (MB): 0.60\n",
              "Forward/backward pass size (MB): 39.74\n",
              "Params size (MB): 45.04\n",
              "Estimated Total Size (MB): 85.38\n",
              "========================================================================================================================"
            ]
          },
          "metadata": {},
          "execution_count": 37
        }
      ],
      "source": [
        "# Calcular el número de características de metadatos\n",
        "num_metadata_features = len(metadata_columns)\n",
        "\n",
        "# Crear el modelo ajustado\n",
        "model = HybridModel(num_metadata_features=num_metadata_features, num_classes=2)\n",
        "\n",
        "# Mostrar resumen del modelo\n",
        "summary(\n",
        "    model,\n",
        "    input_data=(torch.randn(1, 3, 224, 224), torch.randn(1, num_metadata_features)),\n",
        "    col_names=[\"input_size\", \"output_size\", \"num_params\"],\n",
        "    device=\"cpu\"\n",
        ")"
      ]
    },
    {
      "cell_type": "markdown",
      "metadata": {
        "id": "3TxBq_60i1dd"
      },
      "source": [
        "**Crear un Dataset Personalizado**\n",
        "\n",
        "Define la clase POIDataset, que carga imágenes desde las rutas proporcionadas, carga metadatos desde columnas específicas y devuelve imágenes, metadatos y etiquetas para cada muestra."
      ]
    },
    {
      "cell_type": "code",
      "execution_count": 38,
      "metadata": {
        "id": "0Zz8mkPli1RJ"
      },
      "outputs": [],
      "source": [
        "class POIDataset(Dataset):\n",
        "    def __init__(self, dataframe, metadata_columns, transform=None):\n",
        "        self.dataframe = dataframe\n",
        "        self.metadata_columns = metadata_columns\n",
        "        self.transform = transform\n",
        "\n",
        "    def __len__(self):\n",
        "        return len(self.dataframe)\n",
        "\n",
        "    def __getitem__(self, idx):\n",
        "        # Validar índice\n",
        "        if idx >= len(self.dataframe):\n",
        "            raise IndexError(\"Índice fuera de rango.\")\n",
        "\n",
        "        row = self.dataframe.iloc[idx]\n",
        "\n",
        "        # Procesar imagen\n",
        "        image_path = row['adjusted_image_path']\n",
        "        try:\n",
        "            image = Image.open(image_path).convert('RGB')\n",
        "            if self.transform:\n",
        "                image = self.transform(image)\n",
        "        except Exception as e:\n",
        "            print(f\"Error al procesar la imagen en {image_path}: {e}\")\n",
        "            image = torch.zeros(3, 224, 224)  # Imagen vacía como fallback\n",
        "\n",
        "        # Procesar metadatos\n",
        "        metadata = torch.tensor(row[self.metadata_columns].to_numpy(dtype=np.float32))\n",
        "\n",
        "        # Etiqueta\n",
        "        label = torch.tensor(row['engagement_binary'], dtype=torch.long)\n",
        "        return image, metadata, label\n",
        "\n",
        "\n",
        "\n"
      ]
    },
    {
      "cell_type": "markdown",
      "metadata": {
        "id": "b37s0qzka88R"
      },
      "source": [
        "**Crear los datasets personalizados**\n",
        "\n",
        "Este bloque utiliza la clase POIDataset para crear datasets personalizados para los subconjuntos de entrenamiento, validación y prueba."
      ]
    },
    {
      "cell_type": "code",
      "execution_count": 39,
      "metadata": {
        "colab": {
          "base_uri": "https://localhost:8080/"
        },
        "id": "LJPUb1nQa_dR",
        "outputId": "04ed3594-2c32-4430-dfc6-a742ffda01d8"
      },
      "outputs": [
        {
          "output_type": "stream",
          "name": "stdout",
          "text": [
            "Datasets creados con Data Augmentation aplicado al conjunto de entrenamiento.\n"
          ]
        }
      ],
      "source": [
        "# Crear datasets personalizados usando la clase POIDataset\n",
        "#train_dataset = POIDataset(dataframe=train_df, metadata_columns=metadata_columns, transform=transform)\n",
        "#val_dataset = POIDataset(dataframe=val_df, metadata_columns=metadata_columns, transform=transform)\n",
        "#test_dataset = POIDataset(dataframe=test_df, metadata_columns=metadata_columns, transform=transform)\n",
        "\n",
        "#print(\"Datasets creados correctamente.\")\n",
        "\n",
        "# Crear datasets personalizados\n",
        "train_dataset = POIDataset(dataframe=train_df, metadata_columns=metadata_columns, transform=transform)\n",
        "val_dataset = POIDataset(dataframe=val_df, metadata_columns=metadata_columns, transform=val_transform)\n",
        "test_dataset = POIDataset(dataframe=test_df, metadata_columns=metadata_columns, transform=val_transform)\n",
        "\n",
        "print(\"Datasets creados con Data Augmentation aplicado al conjunto de entrenamiento.\")"
      ]
    },
    {
      "cell_type": "markdown",
      "metadata": {
        "id": "KMCH8zTsji1R"
      },
      "source": [
        "**Crear DataLoaders**\n",
        "\n",
        "Este bloque crea los datasets y DataLoaders necesarios para manejar los datos de entrenamiento, validación y prueba."
      ]
    },
    {
      "cell_type": "code",
      "execution_count": 40,
      "metadata": {
        "colab": {
          "base_uri": "https://localhost:8080/"
        },
        "id": "dS6Zn3j-jl5d",
        "outputId": "bbb17619-ea94-4a34-9395-fb7b53a65d96"
      },
      "outputs": [
        {
          "output_type": "stream",
          "name": "stdout",
          "text": [
            "Datasets y DataLoaders creados correctamente.\n"
          ]
        }
      ],
      "source": [
        "# Crear DataLoaders\n",
        "train_loader = DataLoader(train_dataset, batch_size=32, shuffle=True)\n",
        "val_loader = DataLoader(val_dataset, batch_size=32, shuffle=False)\n",
        "test_loader = DataLoader(test_dataset, batch_size=32, shuffle=False)\n",
        "\n",
        "print(\"Datasets y DataLoaders creados correctamente.\")\n"
      ]
    },
    {
      "cell_type": "markdown",
      "metadata": {
        "id": "SyydNKPPqdRD"
      },
      "source": [
        "**Funciones auxiliares (train_one_epoch, validate_one_epoch, train_model)**"
      ]
    },
    {
      "cell_type": "markdown",
      "metadata": {
        "id": "SvgjWQ7roC8G"
      },
      "source": [
        "**Ciclo de Entrenamiento**\n",
        "\n",
        "Implementa un ciclo de entrenamiento por una época:\n",
        "\n",
        "Calcula la pérdida y realiza el backward pass, optimiza los pesos del modelo y calcula la pérdida promedio y la precisión."
      ]
    },
    {
      "cell_type": "code",
      "execution_count": 41,
      "metadata": {
        "id": "ViE3QiLbhr7T"
      },
      "outputs": [],
      "source": [
        "def train_one_epoch(model, train_loader, optimizer, criterion, device):\n",
        "    model.train()  # Modo entrenamientoFunciones auxiliares (train_one_epoch, validate_one_epoch, train_model)\n",
        "\n",
        "\n",
        "    running_loss = 0.0\n",
        "    correct = 0\n",
        "    total = 0\n",
        "\n",
        "    for images, metadata, labels in train_loader:\n",
        "        # Enviar datos al dispositivo\n",
        "        images, metadata, labels = images.to(device), metadata.to(device), labels.to(device)\n",
        "\n",
        "        # Forward pass\n",
        "        outputs = model(images, metadata)\n",
        "        loss = criterion(outputs, labels)\n",
        "\n",
        "        # Backward pass y optimización\n",
        "        optimizer.zero_grad()\n",
        "        loss.backward()\n",
        "        optimizer.step()\n",
        "\n",
        "        # Calcular estadísticas\n",
        "        running_loss += loss.item() * images.size(0)\n",
        "        _, predicted = outputs.max(1)\n",
        "        total += labels.size(0)\n",
        "        correct += predicted.eq(labels).sum().item()\n",
        "\n",
        "    epoch_loss = running_loss / total\n",
        "    accuracy = 100. * correct / total\n",
        "    return epoch_loss, accuracy"
      ]
    },
    {
      "cell_type": "markdown",
      "metadata": {
        "id": "zqN1tSMxoVQw"
      },
      "source": [
        "**Ciclo de Validación**\n",
        "\n",
        "No se calculan gradientes (torch.no_grad()) y se calcula la pérdida promedio y la precisión."
      ]
    },
    {
      "cell_type": "code",
      "execution_count": 42,
      "metadata": {
        "id": "2viJIWXiojzA"
      },
      "outputs": [],
      "source": [
        "def validate_one_epoch(model, val_loader, criterion, device):\n",
        "    model.eval()  # Modo evaluación\n",
        "    running_loss = 0.0\n",
        "    correct = 0\n",
        "    total = 0\n",
        "\n",
        "    with torch.no_grad():\n",
        "        for images, metadata, labels in val_loader:\n",
        "            # Enviar datos al dispositivo\n",
        "            images, metadata, labels = images.to(device), metadata.to(device), labels.to(device)\n",
        "\n",
        "            # Forward pass\n",
        "            outputs = model(images, metadata)\n",
        "            loss = criterion(outputs, labels)\n",
        "\n",
        "            # Calcular estadísticas\n",
        "            running_loss += loss.item() * images.size(0)\n",
        "            _, predicted = outputs.max(1)\n",
        "            total += labels.size(0)\n",
        "            correct += predicted.eq(labels).sum().item()\n",
        "\n",
        "    epoch_loss = running_loss / total\n",
        "    accuracy = 100. * correct / total\n",
        "    return epoch_loss, accuracy\n"
      ]
    },
    {
      "cell_type": "markdown",
      "metadata": {
        "id": "6dwrAkbImSqE"
      },
      "source": [
        "**Bloque 3: Configuración del Pipeline**\n",
        "\n",
        "Función de pérdida: Cross-entropy para clasificación multiclase.\n",
        "\n",
        "Optimizador: Adam, adecuado para problemas complejos como redes profundas.\n",
        "\n",
        "Scheduler: Reduce el learning rate cada 10 épocas para estabilizar el entrenamiento.\n"
      ]
    },
    {
      "cell_type": "code",
      "execution_count": 43,
      "metadata": {
        "colab": {
          "base_uri": "https://localhost:8080/"
        },
        "id": "E9--YpZzmevl",
        "outputId": "062ee543-17e5-4298-b7cc-ba2bd05998f9"
      },
      "outputs": [
        {
          "output_type": "stream",
          "name": "stdout",
          "text": [
            "Pipeline configurado: Pérdida, optimizador y scheduler listos.\n"
          ]
        }
      ],
      "source": [
        "# Configuración del pipeline\n",
        "criterion = nn.CrossEntropyLoss()  # Función de pérdida para clasificación multiclase\n",
        "optimizer = optim.Adam(model.parameters(), lr=0.001)  # Optimizador Adam con learning rate inicial\n",
        "scheduler = optim.lr_scheduler.StepLR(optimizer, step_size=10, gamma=0.1)  # Reducción del learning rate\n",
        "\n",
        "print(\"Pipeline configurado: Pérdida, optimizador y scheduler listos.\")\n"
      ]
    },
    {
      "cell_type": "code",
      "execution_count": 44,
      "metadata": {
        "id": "SLC8SLw2oydK",
        "colab": {
          "base_uri": "https://localhost:8080/"
        },
        "outputId": "bbbda059-bec3-4e1b-8866-04058fe4f322"
      },
      "outputs": [
        {
          "output_type": "stream",
          "name": "stdout",
          "text": [
            "\n",
            "Época 1/20\n",
            "Entrenamiento - Pérdida: 18.9354, Precisión: 79.14%\n",
            "Validación - Pérdida: 4.9152, Precisión: 97.07%\n",
            "Modelo mejorado y guardado.\n",
            "\n",
            "Época 2/20\n",
            "Entrenamiento - Pérdida: 2.7311, Precisión: 92.35%\n",
            "Validación - Pérdida: 0.3968, Precisión: 93.72%\n",
            "Modelo mejorado y guardado.\n",
            "\n",
            "Época 3/20\n",
            "Entrenamiento - Pérdida: 2.0610, Precisión: 93.19%\n",
            "Validación - Pérdida: 0.2903, Precisión: 98.33%\n",
            "Modelo mejorado y guardado.\n",
            "\n",
            "Época 4/20\n",
            "Entrenamiento - Pérdida: 1.4853, Precisión: 92.35%\n",
            "Validación - Pérdida: 0.4382, Precisión: 98.33%\n",
            "Sin mejora en la validación. Paciencia: 1/5\n",
            "\n",
            "Época 5/20\n",
            "Entrenamiento - Pérdida: 1.2423, Precisión: 92.45%\n",
            "Validación - Pérdida: 0.3464, Precisión: 98.33%\n",
            "Sin mejora en la validación. Paciencia: 2/5\n",
            "\n",
            "Época 6/20\n",
            "Entrenamiento - Pérdida: 0.7020, Precisión: 94.13%\n",
            "Validación - Pérdida: 0.0588, Precisión: 98.33%\n",
            "Modelo mejorado y guardado.\n",
            "\n",
            "Época 7/20\n",
            "Entrenamiento - Pérdida: 0.7040, Precisión: 92.98%\n",
            "Validación - Pérdida: 0.1358, Precisión: 98.33%\n",
            "Sin mejora en la validación. Paciencia: 1/5\n",
            "\n",
            "Época 8/20\n",
            "Entrenamiento - Pérdida: 0.4568, Precisión: 94.34%\n",
            "Validación - Pérdida: 0.0478, Precisión: 98.33%\n",
            "Modelo mejorado y guardado.\n",
            "\n",
            "Época 9/20\n",
            "Entrenamiento - Pérdida: 0.5085, Precisión: 93.08%\n",
            "Validación - Pérdida: 0.0649, Precisión: 98.33%\n",
            "Sin mejora en la validación. Paciencia: 1/5\n",
            "\n",
            "Época 10/20\n",
            "Entrenamiento - Pérdida: 0.3281, Precisión: 93.19%\n",
            "Validación - Pérdida: 0.0610, Precisión: 98.33%\n",
            "Sin mejora en la validación. Paciencia: 2/5\n",
            "\n",
            "Época 11/20\n",
            "Entrenamiento - Pérdida: 0.2446, Precisión: 94.13%\n",
            "Validación - Pérdida: 0.0672, Precisión: 98.33%\n",
            "Sin mejora en la validación. Paciencia: 3/5\n",
            "\n",
            "Época 12/20\n",
            "Entrenamiento - Pérdida: 0.2250, Precisión: 93.82%\n",
            "Validación - Pérdida: 0.0705, Precisión: 98.33%\n",
            "Sin mejora en la validación. Paciencia: 4/5\n",
            "\n",
            "Época 13/20\n",
            "Entrenamiento - Pérdida: 0.1998, Precisión: 95.07%\n",
            "Validación - Pérdida: 0.0752, Precisión: 98.33%\n",
            "Sin mejora en la validación. Paciencia: 5/5\n",
            "\n",
            "Early Stopping activado. Entrenamiento detenido.\n"
          ]
        },
        {
          "output_type": "stream",
          "name": "stderr",
          "text": [
            "<ipython-input-44-976e71c0980e>:59: FutureWarning: You are using `torch.load` with `weights_only=False` (the current default value), which uses the default pickle module implicitly. It is possible to construct malicious pickle data which will execute arbitrary code during unpickling (See https://github.com/pytorch/pytorch/blob/main/SECURITY.md#untrusted-models for more details). In a future release, the default value for `weights_only` will be flipped to `True`. This limits the functions that could be executed during unpickling. Arbitrary objects will no longer be allowed to be loaded via this mode unless they are explicitly allowlisted by the user via `torch.serialization.add_safe_globals`. We recommend you start setting `weights_only=True` for any use case where you don't have full control of the loaded file. Please open an issue on GitHub for any issues related to this experimental feature.\n",
            "  model.load_state_dict(torch.load('best_model.pth'))\n"
          ]
        }
      ],
      "source": [
        "def train_model_with_early_stopping(\n",
        "    model, train_loader, val_loader, optimizer, criterion, scheduler, num_epochs, device, patience=5\n",
        "):\n",
        "    \"\"\"\n",
        "    Entrena el modelo con Early Stopping.\n",
        "    Args:\n",
        "        model: El modelo a entrenar.\n",
        "        train_loader: DataLoader del conjunto de entrenamiento.\n",
        "        val_loader: DataLoader del conjunto de validación.\n",
        "        optimizer: Optimizador utilizado para el entrenamiento.\n",
        "        criterion: Función de pérdida utilizada.\n",
        "        scheduler: Scheduler para ajustar el learning rate.\n",
        "        num_epochs: Número máximo de épocas.\n",
        "        device: Dispositivo (CPU o GPU) para el entrenamiento.\n",
        "        patience (int): Número de épocas consecutivas sin mejora en la pérdida de validación para detener el entrenamiento.\n",
        "    \"\"\"\n",
        "    model = model.to(device)\n",
        "    history = {'train_loss': [], 'val_loss': [], 'train_acc': [], 'val_acc': []}\n",
        "\n",
        "    best_val_loss = float('inf')\n",
        "    patience_counter = 0\n",
        "\n",
        "    for epoch in range(1, num_epochs + 1):\n",
        "        print(f\"\\nÉpoca {epoch}/{num_epochs}\")\n",
        "\n",
        "        # Entrenamiento\n",
        "        train_loss, train_acc = train_one_epoch(model, train_loader, optimizer, criterion, device)\n",
        "        history['train_loss'].append(train_loss)\n",
        "        history['train_acc'].append(train_acc)\n",
        "\n",
        "        # Validación\n",
        "        val_loss, val_acc = validate_one_epoch(model, val_loader, criterion, device)\n",
        "        history['val_loss'].append(val_loss)\n",
        "        history['val_acc'].append(val_acc)\n",
        "\n",
        "        # Mostrar resultados de la época\n",
        "        print(f\"Entrenamiento - Pérdida: {train_loss:.4f}, Precisión: {train_acc:.2f}%\")\n",
        "        print(f\"Validación - Pérdida: {val_loss:.4f}, Precisión: {val_acc:.2f}%\")\n",
        "\n",
        "        # Verificar Early Stopping\n",
        "        if val_loss < best_val_loss:\n",
        "            best_val_loss = val_loss\n",
        "            patience_counter = 0\n",
        "            # Guardar el mejor modelo\n",
        "            torch.save(model.state_dict(), 'best_model.pth')\n",
        "            print(\"Modelo mejorado y guardado.\")\n",
        "        else:\n",
        "            patience_counter += 1\n",
        "            print(f\"Sin mejora en la validación. Paciencia: {patience_counter}/{patience}\")\n",
        "\n",
        "        if patience_counter >= patience:\n",
        "            print(\"\\nEarly Stopping activado. Entrenamiento detenido.\")\n",
        "            break\n",
        "\n",
        "        # Actualizar el learning rate\n",
        "        scheduler.step()\n",
        "\n",
        "    # Cargar el mejor modelo\n",
        "    model.load_state_dict(torch.load('best_model.pth'))\n",
        "    return history\n",
        "\n",
        "\n",
        "# **Ejecutar el entrenamiento**\n",
        "num_epochs = 20\n",
        "patience = 5\n",
        "# Llamar a la función de entrenamiento\n",
        "history = train_model_with_early_stopping(\n",
        "    model, train_loader, val_loader, optimizer, criterion, scheduler, num_epochs, device, patience\n",
        ")\n"
      ]
    },
    {
      "cell_type": "markdown",
      "source": [
        "**Optuna**"
      ],
      "metadata": {
        "id": "nhfYxISFF-lK"
      }
    },
    {
      "cell_type": "markdown",
      "source": [
        "**Mostrar visualizaciones Optuna**"
      ],
      "metadata": {
        "id": "NyMOwt5RbDRT"
      }
    },
    {
      "cell_type": "code",
      "source": [
        "# Mostrar los mejores ensayos\n",
        "def show_best_trials(study, top_n=5):\n",
        "    \"\"\"\n",
        "    Muestra los mejores ensayos del estudio.\n",
        "    \"\"\"\n",
        "    completed_trials = [t for t in study.trials if t.value is not None]\n",
        "    best_trials = sorted(completed_trials, key=lambda t: t.value)[:top_n]\n",
        "\n",
        "    print(\"\\nMejores ensayos:\")\n",
        "    print(\"Número de ensayo\\tValor\")\n",
        "    for trial in best_trials:\n",
        "        print(f\"#{trial.number}\\t\\t{trial.value:.4f}\")\n",
        "\n",
        "show_best_trials(study)"
      ],
      "metadata": {
        "colab": {
          "base_uri": "https://localhost:8080/"
        },
        "id": "KEGgGKkebJqH",
        "outputId": "f5525b70-bb55-4031-f763-7a0865b21dc7"
      },
      "execution_count": 48,
      "outputs": [
        {
          "output_type": "stream",
          "name": "stdout",
          "text": [
            "\n",
            "Mejores ensayos:\n",
            "Número de ensayo\tValor\n",
            "#0\t\t0.8101\n"
          ]
        }
      ]
    },
    {
      "cell_type": "code",
      "source": [
        "import optuna\n",
        "\n",
        "# Función para optimizar\n",
        "def objective(trial):\n",
        "    \"\"\"\n",
        "    Función objetivo para que Optuna optimice.\n",
        "    \"\"\"\n",
        "    # Definir los hiperparámetros que quieres optimizar\n",
        "    lr = trial.suggest_float(\"learning_rate\", 1e-5, 1e-2, log=True)\n",
        "    dropout_rate = trial.suggest_float(\"dropout_rate\", 0.1, 0.5)\n",
        "    step_size = trial.suggest_int(\"step_size\", 5, 20)\n",
        "    gamma = trial.suggest_float(\"gamma\", 0.1, 0.9)\n",
        "\n",
        "    # Aquí incluirías tu modelo, entrenamiento y evaluación\n",
        "    # Por ejemplo:\n",
        "    model = HybridModel(num_metadata_features=len(metadata_columns), num_classes=2, dropout_prob=dropout_rate).to(device)\n",
        "    optimizer = optim.Adam(model.parameters(), lr=lr)\n",
        "    scheduler = optim.lr_scheduler.StepLR(optimizer, step_size=step_size, gamma=gamma)\n",
        "\n",
        "    # Entrenamiento con Early Stopping\n",
        "    history = train_model_with_early_stopping(\n",
        "        model, train_loader, val_loader, optimizer, criterion, scheduler, num_epochs=15, device=device, patience=5\n",
        "    )\n",
        "\n",
        "    # Usar la pérdida de validación como métrica de evaluación\n",
        "    return history['val_loss'][-1]\n",
        "\n",
        "# Crear un estudio de Optuna y ejecutar la optimización\n",
        "study = optuna.create_study(direction=\"minimize\")\n",
        "study.optimize(objective, n_trials=1)\n",
        "\n",
        "# Mostrar los mejores ensayos\n",
        "def show_best_trials(study, top_n=5):\n",
        "    \"\"\"\n",
        "    Muestra los mejores ensayos del estudio.\n",
        "    \"\"\"\n",
        "    completed_trials = [t for t in study.trials if t.value is not None]\n",
        "    best_trials = sorted(completed_trials, key=lambda t: t.value)[:top_n]\n",
        "\n",
        "    print(\"\\nMejores ensayos:\")\n",
        "    print(\"Número de ensayo\\tValor\")\n",
        "    for trial in best_trials:\n",
        "        print(f\"#{trial.number}\\t\\t{trial.value:.4f}\")\n",
        "\n",
        "# Llamar a la función para mostrar los mejores ensayos\n",
        "show_best_trials(study)\n",
        "\n"
      ],
      "metadata": {
        "colab": {
          "base_uri": "https://localhost:8080/"
        },
        "id": "dy_IN_V1GBF2",
        "outputId": "62de9043-76c4-4f4f-f6da-37c323414981"
      },
      "execution_count": 47,
      "outputs": [
        {
          "output_type": "stream",
          "name": "stderr",
          "text": [
            "[I 2025-01-26 17:58:07,595] A new study created in memory with name: no-name-150b5629-e1dc-461f-8179-6d99b666402b\n"
          ]
        },
        {
          "output_type": "stream",
          "name": "stdout",
          "text": [
            "\n",
            "Época 1/1\n"
          ]
        },
        {
          "output_type": "stream",
          "name": "stderr",
          "text": [
            "<ipython-input-44-976e71c0980e>:59: FutureWarning:\n",
            "\n",
            "You are using `torch.load` with `weights_only=False` (the current default value), which uses the default pickle module implicitly. It is possible to construct malicious pickle data which will execute arbitrary code during unpickling (See https://github.com/pytorch/pytorch/blob/main/SECURITY.md#untrusted-models for more details). In a future release, the default value for `weights_only` will be flipped to `True`. This limits the functions that could be executed during unpickling. Arbitrary objects will no longer be allowed to be loaded via this mode unless they are explicitly allowlisted by the user via `torch.serialization.add_safe_globals`. We recommend you start setting `weights_only=True` for any use case where you don't have full control of the loaded file. Please open an issue on GitHub for any issues related to this experimental feature.\n",
            "\n",
            "[I 2025-01-26 18:02:04,770] Trial 0 finished with value: 0.8100596950642733 and parameters: {'learning_rate': 0.0003013806051704171, 'dropout_rate': 0.13671590529661276, 'step_size': 8, 'gamma': 0.38440132064358956}. Best is trial 0 with value: 0.8100596950642733.\n"
          ]
        },
        {
          "output_type": "stream",
          "name": "stdout",
          "text": [
            "Entrenamiento - Pérdida: 5.7162, Precisión: 82.39%\n",
            "Validación - Pérdida: 0.8101, Precisión: 98.33%\n",
            "Modelo mejorado y guardado.\n",
            "\n",
            "Mejores ensayos:\n",
            "Número de ensayo\tValor\n",
            "#0\t\t0.8101\n"
          ]
        }
      ]
    },
    {
      "cell_type": "markdown",
      "metadata": {
        "id": "U2PzLLDvz0-1"
      },
      "source": [
        "**Ejecuta y Grafica el historial de entrenamiento**"
      ]
    },
    {
      "cell_type": "code",
      "execution_count": null,
      "metadata": {
        "id": "FxuBHrfuzzwB"
      },
      "outputs": [],
      "source": [
        "# Función para graficar el historial de entrenamiento con Test Accuracy\n",
        "def plot_training_history_with_test(history, test_acc):\n",
        "    \"\"\"\n",
        "    Grafica la pérdida y precisión del entrenamiento y validación a lo largo de las épocas,\n",
        "    incluyendo la precisión del conjunto de prueba (Test Accuracy).\n",
        "    \"\"\"\n",
        "    epochs = range(1, len(history['train_loss']) + 1)\n",
        "\n",
        "    # Gráfica de Pérdida\n",
        "    plt.figure(figsize=(14, 6))\n",
        "    plt.subplot(1, 2, 1)\n",
        "    plt.plot(epochs, history['train_loss'], label='Train Loss', marker='o')\n",
        "    plt.plot(epochs, history['val_loss'], label='Validation Loss', marker='x')\n",
        "    plt.xlabel('Epoch #')\n",
        "    plt.ylabel('Loss')\n",
        "    plt.title('Training and Validation Loss')\n",
        "    plt.legend()\n",
        "    plt.grid(True)\n",
        "\n",
        "    # Gráfica de Precisión\n",
        "    plt.subplot(1, 2, 2)\n",
        "    plt.plot(epochs, history['train_acc'], label='Train Accuracy', marker='o')\n",
        "    plt.plot(epochs, history['val_acc'], label='Validation Accuracy', marker='x')\n",
        "    plt.axhline(y=test_acc, color='r', linestyle='--', label=f'Test Accuracy: {test_acc:.2f}%')\n",
        "    plt.xlabel('Epoch #')\n",
        "    plt.ylabel('Accuracy')\n",
        "    plt.title('Training, Validation, and Test Accuracy')\n",
        "    plt.legend()\n",
        "    plt.grid(True)\n",
        "\n",
        "    plt.tight_layout()\n",
        "    plt.show()\n",
        "\n",
        "# Evaluar precisión y obtener etiquetas y predicciones en el conjunto de prueba\n",
        "def evaluate_on_test_with_preds(model, test_loader, criterion, device):\n",
        "    \"\"\"\n",
        "    Evalúa el modelo en el conjunto de prueba y devuelve la pérdida, precisión,\n",
        "    etiquetas verdaderas y predicciones.\n",
        "    \"\"\"\n",
        "    model.eval()  # Cambiar a modo evaluación\n",
        "    model.to(device)  # Asegurar que el modelo esté en el dispositivo correcto\n",
        "    running_loss = 0.0\n",
        "    correct = 0\n",
        "    total = 0\n",
        "    all_labels = []\n",
        "    all_preds = []\n",
        "\n",
        "    with torch.no_grad():\n",
        "        for images, metadata, labels in test_loader:\n",
        "            # Asegurar que los tensores estén en el dispositivo correcto\n",
        "            images, metadata, labels = images.to(device).float(), metadata.to(device).float(), labels.to(device)\n",
        "\n",
        "            # Forward pass\n",
        "            outputs = model(images, metadata)\n",
        "\n",
        "            # Calcular la pérdida\n",
        "            loss = criterion(outputs, labels)\n",
        "            running_loss += loss.item() * images.size(0)\n",
        "\n",
        "            # Obtener predicciones\n",
        "            _, predicted = outputs.max(1)\n",
        "            total += labels.size(0)\n",
        "            correct += predicted.eq(labels).sum().item()\n",
        "\n",
        "            # Guardar etiquetas y predicciones\n",
        "            all_labels.extend(labels.cpu().numpy())\n",
        "            all_preds.extend(predicted.cpu().numpy())\n",
        "\n",
        "    test_loss = running_loss / total\n",
        "    test_acc = 100. * correct / total\n",
        "    return test_loss, test_acc, all_labels, all_preds\n",
        "\n",
        "# Ejecutar evaluación en el conjunto de prueba\n",
        "test_loss, test_acc, all_labels, all_preds = evaluate_on_test_with_preds(model, test_loader, criterion, device)\n",
        "print(f\"Test Loss: {test_loss:.4f}, Test Accuracy: {test_acc:.2f}%\")\n",
        "\n",
        "# Graficar la matriz de confusión\n",
        "def plot_confusion_matrix(all_labels, all_preds, class_names):\n",
        "    \"\"\"\n",
        "    Genera y grafica una matriz de confusión para el conjunto de prueba.\n",
        "    \"\"\"\n",
        "    from sklearn.metrics import confusion_matrix, ConfusionMatrixDisplay\n",
        "    cm = confusion_matrix(all_labels, all_preds, labels=range(len(class_names)))\n",
        "\n",
        "    # Mostrar la matriz de confusión\n",
        "    disp = ConfusionMatrixDisplay(confusion_matrix=cm, display_labels=class_names)\n",
        "    disp.plot(cmap=plt.cm.Blues)\n",
        "    plt.title(\"Matriz de Confusión\")\n",
        "    plt.grid(False)\n",
        "    plt.show()\n",
        "\n",
        "# Llamar a las funciones de evaluación y graficado\n",
        "test_loss, test_acc, all_labels, all_preds = evaluate_on_test_with_preds(model, test_loader, criterion, device)\n",
        "print(f\"Test Loss: {test_loss:.4f}, Test Accuracy: {test_acc:.2f}%\")\n",
        "\n",
        "# Nombres de las clases\n",
        "class_names = ['Bajo Engagement', 'Alto Engagement']\n",
        "\n",
        "# Graficar la matriz de confusión\n",
        "plot_confusion_matrix(all_labels, all_preds, class_names)\n",
        "\n",
        "# Graficar historial de entrenamiento con Test Accuracy\n",
        "plot_training_history_with_test(history, test_acc)\n",
        "\n"
      ]
    },
    {
      "cell_type": "markdown",
      "source": [
        "**Evaluación en Conjunto de Prueba y Matriz de Confusión**"
      ],
      "metadata": {
        "id": "yLve_iA2yp8x"
      }
    },
    {
      "cell_type": "markdown",
      "metadata": {
        "id": "nNIs4jsrt8hR"
      },
      "source": [
        "**Evaluación en el conjunto de prueba**\n",
        "\n",
        "Una vez que el modelo ha sido entrenado, necesitamos evaluar su rendimiento en el conjunto de prueba (test_loader). Esto implica:\n",
        "\n",
        "Calcular la pérdida en el conjunto de prueba, medir la precisión final y generar un reporte final del rendimiento del modelo."
      ]
    },
    {
      "cell_type": "code",
      "execution_count": null,
      "metadata": {
        "id": "fhRQyzGKtyXN"
      },
      "outputs": [],
      "source": [
        "def evaluate_model(model, test_loader, criterion, device):\n",
        "    model.eval()  # Cambiar a modo evaluación\n",
        "    running_loss = 0.0\n",
        "    correct = 0\n",
        "    total = 0\n",
        "\n",
        "    with torch.no_grad():\n",
        "        for images, metadata, labels in test_loader:\n",
        "            images, metadata, labels = images.to(device), metadata.to(device), labels.to(device)\n",
        "\n",
        "            # Forward pass\n",
        "            outputs = model(images, metadata)\n",
        "            loss = criterion(outputs, labels)\n",
        "\n",
        "            # Calcular estadísticas\n",
        "            running_loss += loss.item() * images.size(0)\n",
        "            _, predicted = outputs.max(1)\n",
        "            total += labels.size(0)\n",
        "            correct += predicted.eq(labels).sum().item()\n",
        "\n",
        "    test_loss = running_loss / total\n",
        "    accuracy = 100. * correct / total\n",
        "    return test_loss, accuracy\n",
        "\n",
        "# Ejecutar evaluación en el conjunto de prueba\n",
        "test_loss, test_accuracy = evaluate_model(model, test_loader, criterion, device)\n",
        "print(f\"Rendimiento en el conjunto de prueba: Pérdida: {test_loss:.4f}, Precisión: {test_accuracy:.2f}%\")\n"
      ]
    },
    {
      "cell_type": "markdown",
      "metadata": {
        "id": "APHRJHFpuVwK"
      },
      "source": [
        "**Visualización del entrenamiento**\n",
        "\n",
        "Visualizar la evolución de la pérdida y precisión durante el entrenamiento y la validación puede ayudar a entender si el modelo ha convergido o si hay problemas como sobreajuste."
      ]
    },
    {
      "cell_type": "code",
      "execution_count": null,
      "metadata": {
        "id": "e9iNDmr6uny5"
      },
      "outputs": [],
      "source": [
        "def plot_training_history(history):\n",
        "    epochs = range(1, len(history['train_loss']) + 1)\n",
        "\n",
        "    # Pérdida\n",
        "    plt.figure(figsize=(10, 5))\n",
        "    plt.plot(epochs, history['train_loss'], label='Pérdida Entrenamiento')\n",
        "    plt.plot(epochs, history['val_loss'], label='Pérdida Validación')\n",
        "    plt.xlabel('Épocas')\n",
        "    plt.ylabel('Pérdida')\n",
        "    plt.title('Evolución de la Pérdida')\n",
        "    plt.legend()\n",
        "    plt.show()\n",
        "\n",
        "    # Precisión\n",
        "    plt.figure(figsize=(10, 5))\n",
        "    plt.plot(epochs, history['train_acc'], label='Precisión Entrenamiento')\n",
        "    plt.plot(epochs, history['val_acc'], label='Precisión Validación')\n",
        "    plt.xlabel('Épocas')\n",
        "    plt.ylabel('Precisión (%)')\n",
        "    plt.title('Evolución de la Precisión')\n",
        "    plt.legend()\n",
        "    plt.show()\n",
        "\n",
        "# Graficar el historial de entrenamiento\n",
        "plot_training_history(history)\n"
      ]
    },
    {
      "cell_type": "markdown",
      "metadata": {
        "id": "6zmvL-BFwDFR"
      },
      "source": [
        "**Guardar el modelo entrenado**\n",
        "\n",
        "Para reutilizar el modelo en el futuro sin necesidad de entrenarlo nuevamente, es buena práctica guardarlo."
      ]
    },
    {
      "cell_type": "code",
      "execution_count": null,
      "metadata": {
        "id": "_bJlHW5CwJDg"
      },
      "outputs": [],
      "source": [
        "# Guardar el modelo\n",
        "model_path = \"hybrid_model.pth\"\n",
        "torch.save(model.state_dict(), model_path)\n",
        "print(f\"Modelo guardado en {model_path}\")\n"
      ]
    },
    {
      "cell_type": "markdown",
      "metadata": {
        "id": "5IXE6qEgwKoY"
      },
      "source": [
        "**Cargar el modelo**\n",
        "\n",
        "Si necesitas reutilizar el modelo, puedes cargarlo de la siguiente manera"
      ]
    },
    {
      "cell_type": "code",
      "execution_count": null,
      "metadata": {
        "id": "gmBYsbLEwVKT"
      },
      "outputs": [],
      "source": [
        "# Cargar el modelo\n",
        "model = HybridModel(num_metadata_features=num_metadata_features, num_classes=2)\n",
        "model.load_state_dict(torch.load(model_path))\n",
        "model.to(device)\n",
        "model.eval()\n",
        "print(\"Modelo cargado y listo para usar.\")\n"
      ]
    },
    {
      "cell_type": "code",
      "execution_count": null,
      "metadata": {
        "id": "aeMa0UiYwy1l"
      },
      "outputs": [],
      "source": []
    }
  ],
  "metadata": {
    "accelerator": "GPU",
    "colab": {
      "gpuType": "T4",
      "provenance": []
    },
    "kernelspec": {
      "display_name": "Python 3",
      "name": "python3"
    },
    "language_info": {
      "name": "python"
    }
  },
  "nbformat": 4,
  "nbformat_minor": 0
}